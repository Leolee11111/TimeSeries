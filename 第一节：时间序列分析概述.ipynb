{
 "cells": [
  {
   "cell_type": "markdown",
   "metadata": {
    "pycharm": {
     "name": "#%% md\n"
    }
   },
   "source": [
    "# 1.时间序列模分析概述"
   ]
  },
  {
   "cell_type": "markdown",
   "metadata": {
    "pycharm": {
     "name": "#%% md\n"
    }
   },
   "source": [
    "\n",
    "时间序列是按照时间次序排列的随机变量序列，如：每日股票收盘价，每隔15min的风力发电量、每年的GDP等等。 从商业经济、管理或者工程科技，时间序列分析都占据着十分重要的作用，应用范围十分广泛。 下面，我们先通过几个案例学习时间序列分析的几个目标：\n",
    "\n",
    "**（1）描述：** （以下例子参考于何书元老师的《应用时间序列分析》第一章 例1.2）\n",
    "\n",
    "下面一份数据列出了某城市1991年至1996年中每个季度的民用煤消耗量（单位：吨），我们需要对民用煤消耗量进行合理的描述性分析。"
   ]
  },
  {
   "cell_type": "code",
   "execution_count": 4,
   "metadata": {
    "collapsed": false,
    "jupyter": {
     "outputs_hidden": false
    },
    "pycharm": {
     "name": "#%%\n"
    }
   },
   "outputs": [],
   "source": [
    "# 引入相关工具包\n",
    "import numpy as np\n",
    "import pandas as pd\n",
    "import matplotlib.pyplot as plt\n",
    "%matplotlib inline\n",
    "plt.style.use(\"ggplot\")\n",
    "import warnings\n",
    "warnings.filterwarnings(\"ignore\")\n",
    "# plt.rcParams['font.sans-serif'] = [\"SimHei\"]  # 绘图显示中文\n",
    "# plt.rcParams[\"axes.unicode_minus\"] = False"
   ]
  },
  {
   "cell_type": "code",
   "execution_count": 5,
   "metadata": {
    "collapsed": false,
    "jupyter": {
     "outputs_hidden": false
    },
    "pycharm": {
     "name": "#%%\n"
    }
   },
   "outputs": [
    {
     "data": {
      "text/html": [
       "<div>\n",
       "<style scoped>\n",
       "    .dataframe tbody tr th:only-of-type {\n",
       "        vertical-align: middle;\n",
       "    }\n",
       "\n",
       "    .dataframe tbody tr th {\n",
       "        vertical-align: top;\n",
       "    }\n",
       "\n",
       "    .dataframe thead th {\n",
       "        text-align: right;\n",
       "    }\n",
       "</style>\n",
       "<table border=\"1\" class=\"dataframe\">\n",
       "  <thead>\n",
       "    <tr style=\"text-align: right;\">\n",
       "      <th></th>\n",
       "      <th>Year</th>\n",
       "      <th>QTY</th>\n",
       "    </tr>\n",
       "  </thead>\n",
       "  <tbody>\n",
       "    <tr>\n",
       "      <th>0</th>\n",
       "      <td>1991Q1</td>\n",
       "      <td>6878.4</td>\n",
       "    </tr>\n",
       "    <tr>\n",
       "      <th>1</th>\n",
       "      <td>1991Q2</td>\n",
       "      <td>5343.7</td>\n",
       "    </tr>\n",
       "    <tr>\n",
       "      <th>2</th>\n",
       "      <td>1991Q3</td>\n",
       "      <td>4847.9</td>\n",
       "    </tr>\n",
       "    <tr>\n",
       "      <th>3</th>\n",
       "      <td>1991Q4</td>\n",
       "      <td>6421.9</td>\n",
       "    </tr>\n",
       "    <tr>\n",
       "      <th>4</th>\n",
       "      <td>1992Q1</td>\n",
       "      <td>6815.4</td>\n",
       "    </tr>\n",
       "  </tbody>\n",
       "</table>\n",
       "</div>"
      ],
      "text/plain": [
       "     Year     QTY\n",
       "0  1991Q1  6878.4\n",
       "1  1991Q2  5343.7\n",
       "2  1991Q3  4847.9\n",
       "3  1991Q4  6421.9\n",
       "4  1992Q1  6815.4"
      ]
     },
     "execution_count": 5,
     "metadata": {},
     "output_type": "execute_result"
    }
   ],
   "source": [
    "# 读取数据并进行初步展示\n",
    "time_index_list = ['1991Q1','1991Q2','1991Q3','1991Q4',\n",
    "                   '1992Q1','1992Q2','1992Q3','1992Q4',\n",
    "                   '1993Q1','1993Q2','1993Q3','1993Q4',\n",
    "                   '1994Q1','1994Q2','1994Q3','1994Q4',\n",
    "                   '1995Q1','1995Q2','1995Q3','1995Q4',\n",
    "                   '1996Q1','1996Q2','1996Q3','1996Q4']\n",
    "QTY_list = [6878.4,5343.7,4847.9,6421.9,\n",
    "            6815.4,5532.6,4745.6,6406.2,\n",
    "            6634.4,5658.5,4674.8,6645.5,\n",
    "            7130.2,5532.6,4989.6,6642.3,\n",
    "            7413.5,5863.1,4997.4,6776.1,\n",
    "            7476.5,5965.5,5202.1,6894.1]\n",
    "data = pd.DataFrame({'Year':time_index_list,\n",
    "                     'QTY':QTY_list})\n",
    "data.head()"
   ]
  },
  {
   "cell_type": "code",
   "execution_count": 6,
   "metadata": {
    "collapsed": false,
    "jupyter": {
     "outputs_hidden": false
    },
    "pycharm": {
     "name": "#%%\n"
    }
   },
   "outputs": [
    {
     "data": {
      "image/png": "[encoded data removed]",
      "text/plain": [
       "<Figure size 432x288 with 1 Axes>"
      ]
     },
     "metadata": {},
     "output_type": "display_data"
    }
   ],
   "source": [
    "# 对民用煤消耗量做可视化展示：\n",
    "plt.plot(np.arange(24)+1, data['QTY'],alpha=0.7)\n",
    "plt.xlabel(\"time\")\n",
    "plt.ylabel(\"QTY\")\n",
    "plt.show()"
   ]
  },
  {
   "cell_type": "markdown",
   "metadata": {
    "pycharm": {
     "name": "#%% md\n"
    }
   },
   "source": [
    "从图中可以清晰看到，数据有强烈的周期信息，周期是4且民用煤消耗量呈现略微逐年增加的趋势。为了验证时间序列是否具有趋势信息和周期信息，我们需要对时间序列进行分解。在分解之前，我们先来学习时间序列的几个重要术语：\n",
    "\n",
    "**时间序列**：按照时间次序排列的随机变量序列$X_1,X_2,...$称为时间序列。因此，时间序列中每一个时刻都是一个随机变量，而我们观察到的数值就是时间序列在某个时刻的观测值，用$x_1,x_2,...,x_N$表示。如：\n",
    "\n",
    "|  序号    |  $\\{X_t\\}$        | $\\{x_t\\}$    |QTY     |\n",
    "|  ----    | ----              |----          |  ----  |\n",
    "| 0        | $X_0 $~ N(10,0.1) | $x_0$        | 11     |\n",
    "| 1        | $X_1 $~ N(10,0.1) | $x_1$        | 9      |\n",
    "| 2        | $X_2 $~ N(10,0.1) | $x_2$        | 10     |\n",
    "| 3        | $X_3 $~ N(10,0.1) | $x_3$        | 12      |\n",
    "| 4        | $X_4 $~ N(10,0.1) | $x_4$        | 11     |\n",
    "| 5        | $X_5 $~ N(10,0.1) | $x_5$        | 9      |\n",
    "\n",
    "\n",
    "**时间序列的分解**：大量的时间序列的观测样本都表现出趋势性、季节性和随机性，因此可以把时间序列分解为三个部分的叠加：\n",
    "$$\n",
    "X_t = T_t + S_t + R_t, t = 1,2,......   \n",
    "$$\n",
    "\n",
    "其中，$\\{T_t\\}$是趋势项（Trend），$\\{S_t\\}$是季节项（Seasonal），$\\{R_t\\}$是随机项（Trend）。"
   ]
  },
  {
   "cell_type": "code",
   "execution_count": null,
   "metadata": {
    "collapsed": false,
    "jupyter": {
     "outputs_hidden": false
    },
    "pycharm": {
     "name": "#%%\n"
    }
   },
   "outputs": [],
   "source": []
  }
 ],
 "metadata": {
  "kernelspec": {
   "display_name": "Python 3 (ipykernel)",
   "language": "python",
   "name": "python3"
  },
  "language_info": {
   "codemirror_mode": {
    "name": "ipython",
    "version": 3
   },
   "file_extension": ".py",
   "mimetype": "text/x-python",
   "name": "python",
   "nbconvert_exporter": "python",
   "pygments_lexer": "ipython3",
   "version": "3.9.7"
  }
 },
 "nbformat": 4,
 "nbformat_minor": 4
}
